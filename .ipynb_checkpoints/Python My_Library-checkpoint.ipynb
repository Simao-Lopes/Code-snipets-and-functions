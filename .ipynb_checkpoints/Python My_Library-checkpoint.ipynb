{
 "cells": [
  {
   "cell_type": "markdown",
   "id": "c54f75a3",
   "metadata": {},
   "source": [
    "# Importing data from URL"
   ]
  },
  {
   "cell_type": "code",
   "execution_count": null,
   "id": "71fe5b37",
   "metadata": {},
   "outputs": [],
   "source": [
    "#Import data from URL\n",
    "def import_url(url):\n",
    "\n",
    "    import pandas as pd\n",
    "    import io\n",
    "    import requests\n",
    "\n",
    "    #Get Raw data\n",
    "    s=requests.get(url).content\n",
    "    #Transform the data to a pandas object\n",
    "    c=pd.read_csv(io.StringIO(s.decode('utf-8')))\n",
    "\n",
    "    #Using diferent separators in this case \\t wich is a tab\n",
    "    return pd.read_csv('file2.txt', sep='\\t') # | \\ / , \\t"
   ]
  },
  {
   "cell_type": "markdown",
   "id": "10ebdf44",
   "metadata": {},
   "source": [
    "# Droping outliers"
   ]
  },
  {
   "cell_type": "code",
   "execution_count": null,
   "id": "dc077bf5",
   "metadata": {},
   "outputs": [],
   "source": [
    "def drop_outliers(numerical, columns, factor=1.5, uP=75, lP=25)\n",
    "    for index in columns:\n",
    "        iqr = np.percentile(numerical[index],uP) - np.percentile(numerical[index],lP)\n",
    "        numerical = numerical[(numerical[index]>np.percentile(numerical[index],lP) - factor*iqr) & (numerical[index]<np.percentile(numerical[index],uP) + factor*iqr)].copy()\n",
    "    return numerical"
   ]
  },
  {
   "cell_type": "markdown",
   "id": "35e9a8bd",
   "metadata": {},
   "source": [
    "# Normalize numerical data"
   ]
  },
  {
   "cell_type": "code",
   "execution_count": null,
   "id": "4acaa899",
   "metadata": {},
   "outputs": [],
   "source": [
    "def scaler(s_typ, features, labels):\n",
    "    \n",
    "    from sklearn.preprocessing import MinMaxScaler\n",
    "    from sklearn.preprocessing import StandardScaler\n",
    "    \n",
    "    y = features[labels]\n",
    "    X = features.drop([labels], axis=1)\n",
    "    X_num = X.select_dtypes(include = np.number)\n",
    "    \n",
    "    if s_typ == 'minmax':\n",
    "        transformer = MinMaxScaler().fit(X_num)\n",
    "        x_normalized = transformer.transform(X_num)\n",
    "        return pd.DataFrame(x_normalized, columns=X_num.columns), X_cat, y\n",
    "    elif s_typ == 'std':\n",
    "        transformer = StandardScaler().fit(X_num)\n",
    "        x_standardized = transformer.transform(X_num)\n",
    "        return pd.DataFrame(x_standardized, columns=X_num.columns), X_cat, y    "
   ]
  },
  {
   "cell_type": "markdown",
   "id": "2875a754",
   "metadata": {},
   "source": [
    "# Normalize categorical data"
   ]
  },
  {
   "cell_type": "code",
   "execution_count": null,
   "id": "b09dc439",
   "metadata": {},
   "outputs": [],
   "source": [
    "def cat_to_num(s_typ, features):\n",
    "    from sklearn.preprocessing import OneHotEncoder\n",
    "    from sklearn.preprocessing import LabelEncoder\n",
    "    \n",
    "    X_cat = features.select_dtypes(include = object)\n",
    "    \n",
    "    if s_typ == 'onehot':\n",
    "        # Creating the encoder object and train with X_cat with all columns\n",
    "        encoder = OneHotEncoder().fit(X_cat)\n",
    "        encoded = encoder.transform(X_cat).toarray()\n",
    "        encoder2 = OneHotEncoder(drop='first').fit(features)\n",
    "        encoded_for_p2 = encoder2.transform(df).toarray()\n",
    "        return pd.DataFrame(encoded_for_p2, encoder.get_feature_names(input_features=features.columns))\n",
    "    elif s_type == 'label':\n",
    "        le = LabelEncoder()\n",
    "        label_encoded = X_cat\n",
    "        return label_encoded.apply(le.fit_transform)"
   ]
  },
  {
   "cell_type": "markdown",
   "id": "677187fd",
   "metadata": {},
   "source": [
    "# Linear regression"
   ]
  },
  {
   "cell_type": "code",
   "execution_count": null,
   "id": "82d8ee9e",
   "metadata": {},
   "outputs": [],
   "source": [
    "def build_model(features, labels, evaluation=True, sample=0.20, seed=42):\n",
    "    from sklearn.model_selection import train_test_split\n",
    "    from sklearn.metrics import mean_squared_error\n",
    "    from sklearn.metrics import mean_absolute_error, r2_score\n",
    "    \n",
    "    y = features[labels]\n",
    "    X = features.drop([labels], axis=1)\n",
    "    \n",
    "    X_train, X_test, y_train, y_test = train_test_split(X, y, test_size=sample, random_state=seed)\n",
    "    lm = linear_model.LinearRegression()\n",
    "    lm.fit(X_train,y_train)\n",
    "    \n",
    "    if evaluation:\n",
    "        predictions = lm.predict(X_train)\n",
    "        predictions_test = lm.predict(X_test)\n",
    "        print('  R2 SCORE: Train', round(r2_score(y_train, predictions),3), '     | Test', round(r2_score(y_test, predictions_test), 3))\n",
    "        print(' MSE SCORE: Train', round(mean_squared_error(y_train,predictions),3), ' | Test', round(mean_squared_error(y_test,predictions_test), 3))\n",
    "        print('RMSE SCORE: Train', round(np.sqrt(mean_squared_error(y_train,predictions)),3), '   | Test', round(np.sqrt(mean_squared_error(y_test,predictions_test)),3))\n",
    "        print(' MAE SCORE: Train', round(mean_absolute_error(y_train, predictions),3), '    | Test', round(mean_absolute_error(y_test, predictions_test), 3))\n",
    "        \n",
    "    return lm"
   ]
  },
  {
   "cell_type": "markdown",
   "id": "7281e7a0",
   "metadata": {},
   "source": [
    "### Usefull functions"
   ]
  },
  {
   "cell_type": "code",
   "execution_count": null,
   "id": "b12371ff",
   "metadata": {},
   "outputs": [],
   "source": [
    "#funtion to fill Nan's into X with Y value, default value is 0\n",
    "def null_replace(x, y=0):\n",
    "    return x.fillna(y)"
   ]
  },
  {
   "cell_type": "code",
   "execution_count": null,
   "id": "58682f26",
   "metadata": {},
   "outputs": [],
   "source": [
    "#funtion to transform X datatype to datetime\n",
    "def force_date(x):\n",
    "    return pd.to_datetime(x, errors='coerce')"
   ]
  },
  {
   "cell_type": "code",
   "execution_count": null,
   "id": "dabe4f8b",
   "metadata": {},
   "outputs": [],
   "source": [
    "#funtion standardize column names to default python snake form, Y parameter can be changed to a diferent disered value\n",
    "def std_data(x, y='_'):\n",
    "    x.columns = [e.lower().replace(' ','_') for e in x]\n",
    "    return x.drop(['unnamed:_0'], axis=1)"
   ]
  },
  {
   "cell_type": "code",
   "execution_count": null,
   "id": "cfe8b82c",
   "metadata": {},
   "outputs": [],
   "source": [
    "# Function to convert K and M to normal numbering\n",
    "def value_to_float(x):\n",
    "    if type(x) == float or type(x) == int:\n",
    "        return x\n",
    "    if 'K' in x:\n",
    "        if len(x) > 1:\n",
    "            return float(x.replace('K', '')) * 1000\n",
    "        return 1000.0\n",
    "    if 'M' in x:\n",
    "        if len(x) > 1:\n",
    "            return float(x.replace('M', '')) * 1000000\n",
    "        return 1000000.0\n",
    "    return float(x)\n",
    "# Aplication sample\n",
    "data = data.apply(value_to_float)"
   ]
  },
  {
   "cell_type": "code",
   "execution_count": null,
   "id": "d7686bd8",
   "metadata": {},
   "outputs": [],
   "source": [
    "# Character replacing function\n",
    "def remove_char(x,y, z=''):\n",
    "    return x.apply(lambda d: d.replace(y, z))"
   ]
  },
  {
   "cell_type": "code",
   "execution_count": null,
   "id": "4072bf18",
   "metadata": {},
   "outputs": [],
   "source": [
    "# function to split the columns and do the operation\n",
    "def split_columns(data, operator='+'):\n",
    "    \n",
    "    n1 = pd.to_numeric(data.str.split(operator,n=1,expand=True)[0])\n",
    "    n2 = pd.to_numeric(data.str.split(operator,n=1,expand=True)[1])\n",
    "        if operator == '+':\n",
    "            n1 = n1 + n2\n",
    "        elif operator == '-':\n",
    "            n1 = n1 - n2\n",
    "        elif operator == '/':\n",
    "            n1 = n1 / n2\n",
    "        elif operator == '*':\n",
    "            n1 = n1 * n2\n",
    "\n",
    "    return n1"
   ]
  },
  {
   "cell_type": "markdown",
   "id": "df55eea4",
   "metadata": {},
   "source": [
    "###### Not done yet"
   ]
  },
  {
   "cell_type": "code",
   "execution_count": null,
   "id": "845b56a3",
   "metadata": {},
   "outputs": [],
   "source": [
    "def log_transfom_clean_(x):\n",
    "    x = np.log10(x)\n",
    "    if np.isfinite(x):\n",
    "        return x\n",
    "    else:\n",
    "        return np.NAN # We are returning NaNs so that we can replace them with means later\n",
    "\n",
    "data['IC5_log'] = list(map(log_transfom_clean_, data['IC5']))"
   ]
  },
  {
   "cell_type": "code",
   "execution_count": 1,
   "id": "2ed0fc4e",
   "metadata": {},
   "outputs": [
    {
     "name": "stdout",
     "output_type": "stream",
     "text": [
      "Lambda value used for Transformation: 0.279777482905204\n"
     ]
    },
    {
     "name": "stderr",
     "output_type": "stream",
     "text": [
      "C:\\Users\\VideoMachine\\anaconda3\\lib\\site-packages\\seaborn\\distributions.py:2619: FutureWarning: `distplot` is a deprecated function and will be removed in a future version. Please adapt your code to use either `displot` (a figure-level function with similar flexibility) or `kdeplot` (an axes-level function for kernel density plots).\n",
      "  warnings.warn(msg, FutureWarning)\n",
      "C:\\Users\\VideoMachine\\anaconda3\\lib\\site-packages\\seaborn\\distributions.py:2619: FutureWarning: `distplot` is a deprecated function and will be removed in a future version. Please adapt your code to use either `displot` (a figure-level function with similar flexibility) or `kdeplot` (an axes-level function for kernel density plots).\n",
      "  warnings.warn(msg, FutureWarning)\n"
     ]
    },
    {
     "data": {
      "image/png": "[encoded data removed]",
      "text/plain": [
       "<Figure size 720x360 with 2 Axes>"
      ]
     },
     "metadata": {
      "needs_background": "light"
     },
     "output_type": "display_data"
    }
   ],
   "source": [
    "# Python3 code to show Box-cox Transformation\n",
    "# of non-normal data\n",
    " \n",
    "# import modules\n",
    "import numpy as np\n",
    "from scipy import stats\n",
    " \n",
    "# plotting modules\n",
    "import seaborn as sns\n",
    "import matplotlib.pyplot as plt\n",
    " \n",
    "# generate non-normal data (exponential)\n",
    "original_data = np.random.exponential(size = 1000)\n",
    " \n",
    "# transform training data & save lambda value\n",
    "fitted_data, fitted_lambda = stats.boxcox(original_data)\n",
    " \n",
    "# creating axes to draw plots\n",
    "fig, ax = plt.subplots(1, 2)\n",
    " \n",
    "# plotting the original data(non-normal) and\n",
    "# fitted data (normal)\n",
    "sns.distplot(original_data, hist = False, kde = True,\n",
    "            kde_kws = {'shade': True, 'linewidth': 2},\n",
    "            label = \"Non-Normal\", color =\"green\", ax = ax[0])\n",
    " \n",
    "sns.distplot(fitted_data, hist = False, kde = True,\n",
    "            kde_kws = {'shade': True, 'linewidth': 2},\n",
    "            label = \"Normal\", color =\"green\", ax = ax[1])\n",
    " \n",
    "# adding legends to the subplots\n",
    "plt.legend(loc = \"upper right\")\n",
    " \n",
    "# rescaling the subplots\n",
    "fig.set_figheight(5)\n",
    "fig.set_figwidth(10)\n",
    " \n",
    "print(f\"Lambda value used for Transformation: {fitted_lambda}\")"
   ]
  },
  {
   "cell_type": "code",
   "execution_count": null,
   "id": "4b62aa82",
   "metadata": {},
   "outputs": [],
   "source": []
  }
 ],
 "metadata": {
  "kernelspec": {
   "display_name": "Python 3 (ipykernel)",
   "language": "python",
   "name": "python3"
  },
  "language_info": {
   "codemirror_mode": {
    "name": "ipython",
    "version": 3
   },
   "file_extension": ".py",
   "mimetype": "text/x-python",
   "name": "python",
   "nbconvert_exporter": "python",
   "pygments_lexer": "ipython3",
   "version": "3.9.12"
  }
 },
 "nbformat": 4,
 "nbformat_minor": 5
}
